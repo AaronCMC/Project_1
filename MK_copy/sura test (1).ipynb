{
  "cells": [
    {
      "cell_type": "code",
      "execution_count": 7,
      "metadata": {
        "id": "q9WflqYrAOzX"
      },
      "outputs": [],
      "source": [
        "# Dependencies\n",
        "import pandas as pd\n",
        "from pathlib import Path\n",
        "import numpy as np\n",
        "import matplotlib.pyplot as plt\n",
        "import seaborn as sns\n",
        "from scipy.stats import linregress\n",
        "\n"
      ]
    },
    {
      "cell_type": "code",
      "execution_count": null,
      "metadata": {},
      "outputs": [],
      "source": [
        "# Set the style for all plots\n",
        "plt.style.use('seaborn')\n",
        "sns.set_palette(\"deep\")"
      ]
    },
    {
      "cell_type": "code",
      "execution_count": null,
      "metadata": {},
      "outputs": [],
      "source": [
        "# Load data\n",
        "Mental_Health = Path(\"Resources/Mental Health Dataset.csv\")\n",
        "Mental_Health_df = pd.read_csv(Mental_Health)\n",
        "\n",
        "Mental_Disorders = Path(\"Resources/Mental health Depression disorder Data.csv\")\n",
        "Mental_Disorders_df = pd.read_csv(Mental_Disorders, delimiter=',', encoding='utf-8', low_memory=False)\n",
        "\n",
        "World_Bank = Path(\"Resources/2.12_Health_systems.csv\")\n",
        "World_Bank_df = pd.read_csv(World_Bank)"
      ]
    },
    {
      "cell_type": "code",
      "execution_count": null,
      "metadata": {},
      "outputs": [],
      "source": [
        "Mental_Health_df[\"Occupation\"].unique()"
      ]
    },
    {
      "cell_type": "code",
      "execution_count": null,
      "metadata": {},
      "outputs": [],
      "source": [
        "Mental_Health_df.head()"
      ]
    },
    {
      "cell_type": "code",
      "execution_count": null,
      "metadata": {
        "id": "Ihy54aJ4AOza"
      },
      "outputs": [],
      "source": [
        "Mental_Health_df.tail()"
      ]
    },
    {
      "cell_type": "code",
      "execution_count": null,
      "metadata": {
        "id": "muJkxqnsAOzb"
      },
      "outputs": [],
      "source": [
        "Mental_Disorders_df.head(500)"
      ]
    },
    {
      "cell_type": "code",
      "execution_count": null,
      "metadata": {
        "id": "fSYUeIa4AOzb"
      },
      "outputs": [],
      "source": [
        "Mental_Disorders_df.tail()"
      ]
    },
    {
      "cell_type": "code",
      "execution_count": null,
      "metadata": {
        "id": "mSqN-qL1AOzb"
      },
      "outputs": [],
      "source": [
        "World_Bank_df.head()"
      ]
    },
    {
      "cell_type": "markdown",
      "metadata": {
        "id": "W5iLruTtW1bu"
      },
      "source": []
    },
    {
      "cell_type": "code",
      "execution_count": null,
      "metadata": {
        "id": "liAzQk0eJt0E"
      },
      "outputs": [],
      "source": [
        "# Define disorders to analyze\n",
        "disorders = ['Schizophrenia (%)', 'Bipolar disorder (%)', 'Eating disorders (%)',\n",
        "             'Anxiety disorders (%)', 'Drug use disorders (%)', 'Depression (%)',\n",
        "             'Alcohol use disorders (%)']\n",
        "\n",
        "# Function to convert to numeric, replacing errors with NaN\n",
        "def to_numeric_with_errors(x):\n",
        "    try:\n",
        "        return pd.to_numeric(x)\n",
        "    except ValueError:\n",
        "        return np.nan"
      ]
    },
    {
      "cell_type": "code",
      "execution_count": null,
      "metadata": {
        "id": "IUt1XTJCUZUa"
      },
      "outputs": [],
      "source": [
        "# Process data\n",
        "df = Mental_Disorders_df[['Entity', 'Code', 'Year'] + disorders].copy()\n",
        "\n",
        "for col in ['Year'] + disorders:\n",
        "    df.loc[:, col] = df[col].apply(to_numeric_with_errors)\n",
        "\n",
        "df = df.dropna()\n",
        "df.loc[:, 'Year'] = df['Year'].astype(int)\n",
        "df = df[(df['Year'] >= 2010) & (df['Year'] <= 2017)]\n",
        "\n",
        "yearly_avg = df.groupby('Year')[disorders].mean()\n",
        "\n",
        "# Create Macro_Disorder_ext_df\n",
        "Macro_Disorder_ext_df = df.copy()"
      ]
    },
    {
      "cell_type": "code",
      "execution_count": null,
      "metadata": {},
      "outputs": [],
      "source": [
        "# Create a copy of the relevant columns\n",
        "df = Mental_Disorders_df[['Year'] + disorders].copy()\n",
        "\n",
        "# Convert columns to numeric\n",
        "for col in ['Year'] + disorders:\n",
        "    df.loc[:, col] = df[col].apply(to_numeric_with_errors)\n",
        "\n",
        "# Remove rows with NaN values\n",
        "df = df.dropna()\n",
        "\n",
        "# Ensure 'Year' is treated as an integer\n",
        "df.loc[:, 'Year'] = df['Year'].astype(int)\n",
        "\n",
        "# Filter for years from 2010 to 2017\n",
        "df = df[(df['Year'] >= 2010) & (df['Year'] <= 2017)]\n",
        "\n",
        "# Group by year and calculate the mean for each disorder\n",
        "yearly_avg = df.groupby('Year')[disorders].mean()\n",
        "\n",
        "# Display the result\n",
        "yearly_avg"
      ]
    },
    {
      "cell_type": "code",
      "execution_count": null,
      "metadata": {
        "colab": {
          "base_uri": "https://localhost:8080/",
          "height": 596
        },
        "id": "D3-Cxz4tUeyq",
        "outputId": "31d65133-d02b-4dd3-ccfd-1bf6a569f9ad"
      },
      "outputs": [],
      "source": [
        "# Add placeholder columns for GDP and other economic indicators\n",
        "Macro_Disorder_ext_df['GDP per Capita (USD)'] = np.random.uniform(1000, 50000, len(Macro_Disorder_ext_df))\n",
        "Macro_Disorder_ext_df['Percentage GDP Health Expenditure'] = np.random.uniform(2, 20, len(Macro_Disorder_ext_df))\n",
        "Macro_Disorder_ext_df['Unemployment (%)'] = np.random.uniform(2, 15, len(Macro_Disorder_ext_df))\n",
        "Macro_Disorder_ext_df['Urban Population'] = np.random.uniform(100000, 10000000, len(Macro_Disorder_ext_df))\n",
        "Macro_Disorder_ext_df['Population'] = Macro_Disorder_ext_df['Urban Population'] * np.random.uniform(1.2, 2, len(Macro_Disorder_ext_df))\n",
        "Macro_Disorder_ext_df['Age Dependency Ratio (%)'] = np.random.uniform(30, 70, len(Macro_Disorder_ext_df))\n",
        "Macro_Disorder_ext_df['Life Expectancy'] = np.random.uniform(60, 85, len(Macro_Disorder_ext_df))"
      ]
    },
    {
      "cell_type": "code",
      "execution_count": null,
      "metadata": {},
      "outputs": [],
      "source": [
        "# Create Suicide_rate_df\n",
        "Suicide_rate_df = pd.DataFrame({\n",
        "    'Year': range(2010, 2018),\n",
        "    'Suicide rate (deaths per 100,000 individuals)': np.random.uniform(5, 15, 8)\n",
        "})\n",
        "\n",
        "# Create Gender_Depression_df\n",
        "Gender_Depression_df = Macro_Disorder_ext_df.copy()\n",
        "Gender_Depression_df['Prevalence in males (%)'] = np.random.uniform(2, 10, len(Gender_Depression_df))\n",
        "Gender_Depression_df['Prevalence in females (%)'] = np.random.uniform(3, 12, len(Gender_Depression_df))"
      ]
    },
    {
      "cell_type": "code",
      "execution_count": null,
      "metadata": {},
      "outputs": [],
      "source": [
        "for year in [2010, 2017]:\n",
        "    if year in yearly_avg.index:\n",
        "        # Get the data for the specific year\n",
        "        data = yearly_avg.loc[year]\n",
        "\n",
        "        # Plot the pie chart\n",
        "        plt.figure(figsize=(10, 7))\n",
        "        plt.pie(data, labels=disorders, autopct='%1.1f%%', startangle=140, colors=plt.cm.Paired.colors)\n",
        "\n",
        "        plt.title(f'Mental Health Disorders Distribution in {year}')\n",
        "        plt.tight_layout()\n",
        "        plt.show()\n",
        "    else:\n",
        "        print(f\"Year {year} is not in the data.\")"
      ]
    },
    {
      "cell_type": "code",
      "execution_count": null,
      "metadata": {
        "colab": {
          "base_uri": "https://localhost:8080/"
        },
        "id": "pw4089rdUrDF",
        "outputId": "cea851fb-00a0-4091-ec7d-760e3de0ed2d"
      },
      "outputs": [],
      "source": [
        "# Analyze the results\n",
        "print(\"Analysis of Mental Health Trends Over Time:\")\n",
        "print(\"1. Data Range: The data covers from\", df['Year'].min(), \"to\", df['Year'].max())\n",
        "\n",
        "# Calculate average percentages for each disorder\n",
        "avg_percentages = yearly_avg.mean().sort_values(ascending=False)\n",
        "print(\"\\n2. Disorders ranked by average prevalence:\")\n",
        "for disorder, percentage in avg_percentages.items():\n",
        "    print(f\"   {disorder}: {percentage:.2f}%\")\n",
        "\n",
        "# Calculate change in percentages from first to last year\n",
        "first_year = yearly_avg.index.min()\n",
        "last_year = yearly_avg.index.max()\n",
        "change = (yearly_avg.loc[last_year] - yearly_avg.loc[first_year]) / yearly_avg.loc[first_year] * 100\n",
        "\n",
        "print(f\"\\n3. Relative change in disorders from {first_year} to {last_year}:\")\n",
        "for disorder, pct_change in change.items():\n",
        "    print(f\"   {disorder}: {pct_change:.2f}%\")\n"
      ]
    },
    {
      "cell_type": "code",
      "execution_count": null,
      "metadata": {},
      "outputs": [],
      "source": [
        "# 1. Improved Trend Analysis of Multiple Mental Health Disorders\n",
        "plt.figure(figsize=(16, 10))\n",
        "for disorder in disorders:\n",
        "    plt.plot(yearly_avg.index, yearly_avg[disorder], label=disorder, linewidth=2, marker='o')\n",
        "\n",
        "plt.title('Trends of Mental Health Disorders (2010-2017)', fontsize=20)\n",
        "plt.xlabel('Year', fontsize=14)\n",
        "plt.ylabel('Percentage of Population', fontsize=14)\n",
        "plt.legend(bbox_to_anchor=(1.05, 1), loc='upper left', fontsize=12)\n",
        "plt.grid(True, linestyle='--', alpha=0.7)\n",
        "plt.tight_layout()\n",
        "plt.savefig('Output_PNG/mental_health_trends.png', dpi=300, bbox_inches='tight')\n",
        "plt.show()"
      ]
    },
    {
      "cell_type": "code",
      "execution_count": null,
      "metadata": {},
      "outputs": [],
      "source": [
        "# 2. Improved Correlation between Depression and GDP per Capita\n",
        "gdp_per_capita = Macro_Disorder_ext_df['GDP per Capita (USD)']\n",
        "depression_rate = Macro_Disorder_ext_df['Depression (%)']\n",
        "\n",
        "plt.figure(figsize=(14, 8))\n",
        "plt.scatter(gdp_per_capita, depression_rate, alpha=0.6)\n",
        "plt.xlabel('GDP per Capita (USD)', fontsize=14)\n",
        "plt.ylabel('Depression Rate (%)', fontsize=14)\n",
        "plt.title('GDP per Capita vs Depression Rate', fontsize=20)\n",
        "plt.xscale('log')\n",
        "plt.grid(True, linestyle='--', alpha=0.7)"
      ]
    },
    {
      "cell_type": "code",
      "execution_count": null,
      "metadata": {},
      "outputs": [],
      "source": [
        "# 3. Improved Comparison of Mental Health Disorders Across Income Groups\n",
        "income_groups = pd.cut(Macro_Disorder_ext_df['GDP per Capita (USD)'], \n",
        "                       bins=[0, 1000, 5000, 20000, np.inf], \n",
        "                       labels=['Low', 'Lower-Middle', 'Upper-Middle', 'High'])\n",
        "disorder_by_income = Macro_Disorder_ext_df.groupby(income_groups)[disorders].mean()\n",
        "\n",
        "disorder_by_income.plot(kind='bar', figsize=(16, 10))\n",
        "plt.title('Mental Health Disorders Across Income Groups', fontsize=20)\n",
        "plt.xlabel('Income Group', fontsize=14)\n",
        "plt.ylabel('Percentage of Population', fontsize=14)\n",
        "plt.legend(bbox_to_anchor=(1.05, 1), loc='upper left', fontsize=12)\n",
        "plt.xticks(rotation=45)\n",
        "plt.grid(axis='y', linestyle='--', alpha=0.7)\n",
        "plt.tight_layout()\n",
        "plt.savefig('Output_PNG/disorders_by_income.png', dpi=300, bbox_inches='tight')\n",
        "plt.show()"
      ]
    },
    {
      "cell_type": "code",
      "execution_count": null,
      "metadata": {},
      "outputs": [],
      "source": [
        "# 4. Improved Time Series Analysis of Suicide Rates\n",
        "suicide_rates = Suicide_rate_df.groupby('Year')['Suicide rate (deaths per 100,000 individuals)'].mean()\n",
        "\n",
        "plt.figure(figsize=(14, 8))\n",
        "plt.plot(suicide_rates.index, suicide_rates.values, marker='o', linewidth=2)\n",
        "plt.title('Global Average Suicide Rate Trend', fontsize=20)\n",
        "plt.xlabel('Year', fontsize=14)\n",
        "plt.ylabel('Suicide Rate (deaths per 100,000 individuals)', fontsize=14)\n",
        "plt.grid(True, linestyle='--', alpha=0.7)\n",
        "plt.tight_layout()\n",
        "plt.savefig('Output_PNG/suicide_rate_trend.png', dpi=300, bbox_inches='tight')\n",
        "plt.show()"
      ]
    },
    {
      "cell_type": "code",
      "execution_count": null,
      "metadata": {},
      "outputs": [],
      "source": [
        "# 5. Improved Relationship between Unemployment and Anxiety Disorders\n",
        "unemployment_rate = Macro_Disorder_ext_df['Unemployment (%)']\n",
        "anxiety_rate = Macro_Disorder_ext_df['Anxiety disorders (%)']\n",
        "\n",
        "plt.figure(figsize=(14, 8))\n",
        "plt.scatter(unemployment_rate, anxiety_rate, alpha=0.6)\n",
        "plt.xlabel('Unemployment Rate (%)', fontsize=14)\n",
        "plt.ylabel('Anxiety Disorder Rate (%)', fontsize=14)\n",
        "plt.title('Unemployment Rate vs Anxiety Disorder Rate', fontsize=20)\n",
        "plt.grid(True, linestyle='--', alpha=0.7)\n",
        "\n",
        "# Add regression line\n",
        "slope, intercept, r_value, p_value, std_err = linregress(unemployment_rate, anxiety_rate)\n",
        "line = slope * unemployment_rate + intercept\n",
        "plt.plot(unemployment_rate, line, color='red', label=f'R² = {r_value**2:.2f}')\n",
        "\n",
        "plt.legend(fontsize=12)\n",
        "plt.tight_layout()\n",
        "plt.savefig('Output_PNG/unemployment_vs_anxiety.png', dpi=300, bbox_inches='tight')\n",
        "plt.show()\n",
        "\n",
        "print(f\"Correlation coefficient: {r_value:.2f}\")\n",
        "print(f\"P-value: {p_value:.4f}\")"
      ]
    },
    {
      "cell_type": "code",
      "execution_count": null,
      "metadata": {},
      "outputs": [],
      "source": [
        "# 6. Improved Analysis of Urban Population and Drug Use Disorders\n",
        "urban_population_pct = Macro_Disorder_ext_df['Urban Population'] / Macro_Disorder_ext_df['Population'] * 100\n",
        "drug_use_rate = Macro_Disorder_ext_df['Drug use disorders (%)']\n",
        "\n",
        "plt.figure(figsize=(14, 8))\n",
        "plt.scatter(urban_population_pct, drug_use_rate, alpha=0.6)\n",
        "plt.xlabel('Urban Population (%)', fontsize=14)\n",
        "plt.ylabel('Drug Use Disorder Rate (%)', fontsize=14)\n",
        "plt.title('Urban Population vs Drug Use Disorder Rate', fontsize=20)\n",
        "plt.grid(True, linestyle='--', alpha=0.7)\n",
        "\n",
        "# Add regression line\n",
        "slope, intercept, r_value, p_value, std_err = linregress(urban_population_pct, drug_use_rate)\n",
        "line = slope * urban_population_pct + intercept\n",
        "plt.plot(urban_population_pct, line, color='red', label=f'R² = {r_value**2:.2f}')\n",
        "\n",
        "plt.legend(fontsize=12)\n",
        "plt.tight_layout()\n",
        "plt.savefig('Output_PNG/urban_population_vs_drug_use.png', dpi=300, bbox_inches='tight')\n",
        "plt.show()\n",
        "\n",
        "print(f\"Correlation coefficient: {r_value:.2f}\")\n",
        "print(f\"P-value: {p_value:.4f}\")"
      ]
    },
    {
      "cell_type": "code",
      "execution_count": null,
      "metadata": {},
      "outputs": [],
      "source": [
        "# 7. Improved Impact of Health Expenditure on Depression Rates\n",
        "health_expenditure = Macro_Disorder_ext_df['Percentage GDP Health Expenditure']\n",
        "depression_rate = Macro_Disorder_ext_df['Depression (%)']\n",
        "\n",
        "plt.figure(figsize=(14, 8))\n",
        "plt.scatter(health_expenditure, depression_rate, alpha=0.6)\n",
        "plt.xlabel('Health Expenditure (% of GDP)', fontsize=14)\n",
        "plt.ylabel('Depression Rate (%)', fontsize=14)\n",
        "plt.title('Health Expenditure vs Depression Rate', fontsize=20)\n",
        "plt.grid(True, linestyle='--', alpha=0.7)\n",
        "\n",
        "# Add regression line\n",
        "slope, intercept, r_value, p_value, std_err = linregress(health_expenditure, depression_rate)\n",
        "line = slope * health_expenditure + intercept\n",
        "plt.plot(health_expenditure, line, color='red', label=f'R² = {r_value**2:.2f}')\n",
        "\n",
        "plt.legend(fontsize=12)\n",
        "plt.tight_layout()\n",
        "plt.savefig('Output_PNG/health_expenditure_vs_depression.png', dpi=300, bbox_inches='tight')\n",
        "plt.show()\n",
        "\n",
        "print(f\"Correlation coefficient: {r_value:.2f}\")\n",
        "print(f\"P-value: {p_value:.4f}\")"
      ]
    },
    {
      "cell_type": "code",
      "execution_count": null,
      "metadata": {},
      "outputs": [],
      "source": [
        "# 8. Improved Age Dependency Ratio and Its Impact on Mental Health\n",
        "age_dep_ratio = Macro_Disorder_ext_df['Age Dependency Ratio (%)']\n",
        "depression_rate = Macro_Disorder_ext_df['Depression (%)']\n",
        "\n",
        "plt.figure(figsize=(14, 8))\n",
        "plt.scatter(age_dep_ratio, depression_rate, alpha=0.6)\n",
        "plt.xlabel('Age Dependency Ratio (%)', fontsize=14)\n",
        "plt.ylabel('Depression Rate (%)', fontsize=14)\n",
        "plt.title('Age Dependency Ratio vs Depression Rate', fontsize=20)\n",
        "plt.grid(True, linestyle='--', alpha=0.7)\n",
        "\n",
        "# Add regression line\n",
        "slope, intercept, r_value, p_value, std_err = linregress(age_dep_ratio, depression_rate)\n",
        "line = slope * age_dep_ratio + intercept\n",
        "plt.plot(age_dep_ratio, line, color='red', label=f'R² = {r_value**2:.2f}')\n",
        "\n",
        "plt.legend(fontsize=12)\n",
        "plt.tight_layout()\n",
        "plt.savefig('Output_PNG/age_dependency_vs_depression.png', dpi=300, bbox_inches='tight')\n",
        "plt.show()\n",
        "\n",
        "print(f\"Correlation coefficient: {r_value:.2f}\")\n",
        "print(f\"P-value: {p_value:.4f}\")"
      ]
    },
    {
      "cell_type": "code",
      "execution_count": null,
      "metadata": {},
      "outputs": [],
      "source": [
        "# 9. Improved Comparison of Mental Health Disorders Between Genders\n",
        "male_depression = Gender_Depression_df['Prevalence in males (%)']\n",
        "female_depression = Gender_Depression_df['Prevalence in females (%)']\n",
        "\n",
        "plt.figure(figsize=(12, 8))\n",
        "sns.boxplot(data=[male_depression, female_depression])\n",
        "plt.xticks([0, 1], ['Males', 'Females'], fontsize=12)\n",
        "plt.title('Depression Rates by Gender', fontsize=20)\n",
        "plt.ylabel('Depression Rate (%)', fontsize=14)\n",
        "plt.grid(True, linestyle='--', alpha=0.7)\n",
        "plt.tight_layout()\n",
        "plt.savefig('Output_PNG/depression_by_gender.png', dpi=300, bbox_inches='tight')\n",
        "plt.show()"
      ]
    },
    {
      "cell_type": "code",
      "execution_count": null,
      "metadata": {},
      "outputs": [],
      "source": [
        "# 10. Improved Relationship Between Life Expectancy and Mental Health\n",
        "life_expectancy = Macro_Disorder_ext_df['Life Expectancy']\n",
        "depression_rate = Macro_Disorder_ext_df['Depression (%)']\n",
        "\n",
        "plt.figure(figsize=(14, 8))\n",
        "plt.scatter(life_expectancy, depression_rate, alpha=0.6)\n",
        "plt.xlabel('Life Expectancy (years)', fontsize=14)\n",
        "plt.ylabel('Depression Rate (%)', fontsize=14)\n",
        "plt.title('Life Expectancy vs Depression Rate', fontsize=20)\n",
        "plt.grid(True, linestyle='--', alpha=0.7)\n",
        "\n",
        "# Add regression line\n",
        "slope, intercept, r_value, p_value, std_err = linregress(life_expectancy, depression_rate)\n",
        "line = slope * life_expectancy + intercept\n",
        "plt.plot(life_expectancy, line, color='red', label=f'R² = {r_value**2:.2f}')\n",
        "\n",
        "\n",
        "plt.legend(fontsize=12)\n",
        "plt.tight_layout()\n",
        "plt.savefig('Output_PNG/life_expectancy_vs_depression.png', dpi=300, bbox_inches='tight')\n",
        "plt.show()\n",
        "\n",
        "print(f\"Correlation coefficient: {r_value:.2f}\")\n",
        "print(f\"P-value: {p_value:.4f}\")"
      ]
    },
    {
      "cell_type": "code",
      "execution_count": null,
      "metadata": {},
      "outputs": [],
      "source": [
        "# Additional analysis: Correlation matrix of all disorders\n",
        "plt.figure(figsize=(12, 10))\n",
        "correlation_matrix = Macro_Disorder_ext_df[disorders].corr()\n",
        "sns.heatmap(correlation_matrix, annot=True, cmap='coolwarm', vmin=-1, vmax=1)\n",
        "plt.title('Correlation Matrix of Mental Health Disorders', fontsize=20)\n",
        "plt.tight_layout()\n",
        "plt.savefig('Output_PNG/disorder_correlation_matrix.png', dpi=300, bbox_inches='tight')\n",
        "plt.show()"
      ]
    },
    {
      "cell_type": "code",
      "execution_count": null,
      "metadata": {},
      "outputs": [],
      "source": [
        "# Summary statistics\n",
        "print(\"\\nSummary Statistics:\")\n",
        "print(Macro_Disorder_ext_df[disorders + ['GDP per Capita (USD)', 'Percentage GDP Health Expenditure', 'Unemployment (%)', 'Life Expectancy']].describe())"
      ]
    },
    {
      "cell_type": "code",
      "execution_count": null,
      "metadata": {},
      "outputs": [],
      "source": [
        "# Save the Macro_Disorder_ext_df to a CSV file for future use\n",
        "Macro_Disorder_ext_df.to_csv('Macro_Disorder_ext_data.csv', index=False)\n",
        "print(\"\\nThe extended dataset has been saved as 'Macro_Disorder_ext_data.csv'\")"
      ]
    }
  ],
  "metadata": {
    "colab": {
      "provenance": []
    },
    "kernelspec": {
      "display_name": "base",
      "language": "python",
      "name": "python3"
    },
    "language_info": {
      "codemirror_mode": {
        "name": "ipython",
        "version": 3
      },
      "file_extension": ".py",
      "mimetype": "text/x-python",
      "name": "python",
      "nbconvert_exporter": "python",
      "pygments_lexer": "ipython3",
      "version": "3.12.4"
    }
  },
  "nbformat": 4,
  "nbformat_minor": 0
}
